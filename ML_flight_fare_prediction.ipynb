{
 "cells": [
  {
   "cell_type": "code",
   "execution_count": 1,
   "metadata": {
    "_cell_guid": "b1076dfc-b9ad-4769-8c92-a6c4dae69d19",
    "_uuid": "8f2839f25d086af736a60e9eeb907d3b93b6e0e5",
    "execution": {
     "iopub.execute_input": "2023-06-26T10:30:12.472318Z",
     "iopub.status.busy": "2023-06-26T10:30:12.471858Z",
     "iopub.status.idle": "2023-06-26T10:30:12.515216Z",
     "shell.execute_reply": "2023-06-26T10:30:12.514074Z",
     "shell.execute_reply.started": "2023-06-26T10:30:12.472281Z"
    },
    "id": "qMWnw-fCUHji"
   },
   "outputs": [],
   "source": [
    "import numpy as np\n",
    "import pandas as pd"
   ]
  },
  {
   "cell_type": "code",
   "execution_count": 2,
   "metadata": {
    "execution": {
     "iopub.execute_input": "2023-06-26T10:30:12.519693Z",
     "iopub.status.busy": "2023-06-26T10:30:12.518937Z",
     "iopub.status.idle": "2023-06-26T10:30:16.361021Z",
     "shell.execute_reply": "2023-06-26T10:30:16.360102Z",
     "shell.execute_reply.started": "2023-06-26T10:30:12.519651Z"
    },
    "id": "oWX2yDFDUHjk"
   },
   "outputs": [],
   "source": [
    "train = pd.read_excel(\"/Users/shreyanshsourabh/Downloads/archive-3/Data_Train.xlsx\")"
   ]
  },
  {
   "cell_type": "markdown",
   "metadata": {
    "id": "4Pei982c6lNu"
   },
   "source": [
    "# Data Preprocessing"
   ]
  },
  {
   "cell_type": "code",
   "execution_count": 3,
   "metadata": {
    "execution": {
     "iopub.execute_input": "2023-06-26T10:30:16.363334Z",
     "iopub.status.busy": "2023-06-26T10:30:16.362062Z",
     "iopub.status.idle": "2023-06-26T10:30:16.401364Z",
     "shell.execute_reply": "2023-06-26T10:30:16.400240Z",
     "shell.execute_reply.started": "2023-06-26T10:30:16.363291Z"
    },
    "id": "hR-bYPP4UHjl"
   },
   "outputs": [
    {
     "data": {
      "text/html": [
       "<div>\n",
       "<style scoped>\n",
       "    .dataframe tbody tr th:only-of-type {\n",
       "        vertical-align: middle;\n",
       "    }\n",
       "\n",
       "    .dataframe tbody tr th {\n",
       "        vertical-align: top;\n",
       "    }\n",
       "\n",
       "    .dataframe thead th {\n",
       "        text-align: right;\n",
       "    }\n",
       "</style>\n",
       "<table border=\"1\" class=\"dataframe\">\n",
       "  <thead>\n",
       "    <tr style=\"text-align: right;\">\n",
       "      <th></th>\n",
       "      <th>Airline</th>\n",
       "      <th>Date_of_Journey</th>\n",
       "      <th>Source</th>\n",
       "      <th>Destination</th>\n",
       "      <th>Route</th>\n",
       "      <th>Dep_Time</th>\n",
       "      <th>Arrival_Time</th>\n",
       "      <th>Duration</th>\n",
       "      <th>Total_Stops</th>\n",
       "      <th>Additional_Info</th>\n",
       "      <th>Price</th>\n",
       "    </tr>\n",
       "  </thead>\n",
       "  <tbody>\n",
       "    <tr>\n",
       "      <th>0</th>\n",
       "      <td>IndiGo</td>\n",
       "      <td>24/03/2019</td>\n",
       "      <td>Banglore</td>\n",
       "      <td>New Delhi</td>\n",
       "      <td>BLR → DEL</td>\n",
       "      <td>22:20</td>\n",
       "      <td>01:10 22 Mar</td>\n",
       "      <td>2h 50m</td>\n",
       "      <td>non-stop</td>\n",
       "      <td>No info</td>\n",
       "      <td>3897</td>\n",
       "    </tr>\n",
       "    <tr>\n",
       "      <th>1</th>\n",
       "      <td>Air India</td>\n",
       "      <td>1/05/2019</td>\n",
       "      <td>Kolkata</td>\n",
       "      <td>Banglore</td>\n",
       "      <td>CCU → IXR → BBI → BLR</td>\n",
       "      <td>05:50</td>\n",
       "      <td>13:15</td>\n",
       "      <td>7h 25m</td>\n",
       "      <td>2 stops</td>\n",
       "      <td>No info</td>\n",
       "      <td>7662</td>\n",
       "    </tr>\n",
       "    <tr>\n",
       "      <th>2</th>\n",
       "      <td>Jet Airways</td>\n",
       "      <td>9/06/2019</td>\n",
       "      <td>Delhi</td>\n",
       "      <td>Cochin</td>\n",
       "      <td>DEL → LKO → BOM → COK</td>\n",
       "      <td>09:25</td>\n",
       "      <td>04:25 10 Jun</td>\n",
       "      <td>19h</td>\n",
       "      <td>2 stops</td>\n",
       "      <td>No info</td>\n",
       "      <td>13882</td>\n",
       "    </tr>\n",
       "    <tr>\n",
       "      <th>3</th>\n",
       "      <td>IndiGo</td>\n",
       "      <td>12/05/2019</td>\n",
       "      <td>Kolkata</td>\n",
       "      <td>Banglore</td>\n",
       "      <td>CCU → NAG → BLR</td>\n",
       "      <td>18:05</td>\n",
       "      <td>23:30</td>\n",
       "      <td>5h 25m</td>\n",
       "      <td>1 stop</td>\n",
       "      <td>No info</td>\n",
       "      <td>6218</td>\n",
       "    </tr>\n",
       "    <tr>\n",
       "      <th>4</th>\n",
       "      <td>IndiGo</td>\n",
       "      <td>01/03/2019</td>\n",
       "      <td>Banglore</td>\n",
       "      <td>New Delhi</td>\n",
       "      <td>BLR → NAG → DEL</td>\n",
       "      <td>16:50</td>\n",
       "      <td>21:35</td>\n",
       "      <td>4h 45m</td>\n",
       "      <td>1 stop</td>\n",
       "      <td>No info</td>\n",
       "      <td>13302</td>\n",
       "    </tr>\n",
       "  </tbody>\n",
       "</table>\n",
       "</div>"
      ],
      "text/plain": [
       "       Airline Date_of_Journey    Source Destination                  Route  \\\n",
       "0       IndiGo      24/03/2019  Banglore   New Delhi              BLR → DEL   \n",
       "1    Air India       1/05/2019   Kolkata    Banglore  CCU → IXR → BBI → BLR   \n",
       "2  Jet Airways       9/06/2019     Delhi      Cochin  DEL → LKO → BOM → COK   \n",
       "3       IndiGo      12/05/2019   Kolkata    Banglore        CCU → NAG → BLR   \n",
       "4       IndiGo      01/03/2019  Banglore   New Delhi        BLR → NAG → DEL   \n",
       "\n",
       "  Dep_Time  Arrival_Time Duration Total_Stops Additional_Info  Price  \n",
       "0    22:20  01:10 22 Mar   2h 50m    non-stop         No info   3897  \n",
       "1    05:50         13:15   7h 25m     2 stops         No info   7662  \n",
       "2    09:25  04:25 10 Jun      19h     2 stops         No info  13882  \n",
       "3    18:05         23:30   5h 25m      1 stop         No info   6218  \n",
       "4    16:50         21:35   4h 45m      1 stop         No info  13302  "
      ]
     },
     "execution_count": 3,
     "metadata": {},
     "output_type": "execute_result"
    }
   ],
   "source": [
    "train.head()"
   ]
  },
  {
   "cell_type": "code",
   "execution_count": 4,
   "metadata": {
    "execution": {
     "iopub.execute_input": "2023-06-26T10:30:16.404003Z",
     "iopub.status.busy": "2023-06-26T10:30:16.403654Z",
     "iopub.status.idle": "2023-06-26T10:30:16.412915Z",
     "shell.execute_reply": "2023-06-26T10:30:16.411811Z",
     "shell.execute_reply.started": "2023-06-26T10:30:16.403974Z"
    },
    "id": "i5sJii0TUHjm"
   },
   "outputs": [
    {
     "data": {
      "text/plain": [
       "(10683, 11)"
      ]
     },
     "execution_count": 4,
     "metadata": {},
     "output_type": "execute_result"
    }
   ],
   "source": [
    "train.shape"
   ]
  },
  {
   "cell_type": "code",
   "execution_count": 5,
   "metadata": {
    "execution": {
     "iopub.execute_input": "2023-06-26T10:30:16.414793Z",
     "iopub.status.busy": "2023-06-26T10:30:16.414374Z",
     "iopub.status.idle": "2023-06-26T10:30:16.476118Z",
     "shell.execute_reply": "2023-06-26T10:30:16.475058Z",
     "shell.execute_reply.started": "2023-06-26T10:30:16.414755Z"
    },
    "id": "5sbTujubUHjn"
   },
   "outputs": [
    {
     "name": "stdout",
     "output_type": "stream",
     "text": [
      "<class 'pandas.core.frame.DataFrame'>\n",
      "RangeIndex: 10683 entries, 0 to 10682\n",
      "Data columns (total 11 columns):\n",
      " #   Column           Non-Null Count  Dtype \n",
      "---  ------           --------------  ----- \n",
      " 0   Airline          10683 non-null  object\n",
      " 1   Date_of_Journey  10683 non-null  object\n",
      " 2   Source           10683 non-null  object\n",
      " 3   Destination      10683 non-null  object\n",
      " 4   Route            10682 non-null  object\n",
      " 5   Dep_Time         10683 non-null  object\n",
      " 6   Arrival_Time     10683 non-null  object\n",
      " 7   Duration         10683 non-null  object\n",
      " 8   Total_Stops      10682 non-null  object\n",
      " 9   Additional_Info  10683 non-null  object\n",
      " 10  Price            10683 non-null  int64 \n",
      "dtypes: int64(1), object(10)\n",
      "memory usage: 918.2+ KB\n"
     ]
    }
   ],
   "source": [
    "train.info()"
   ]
  },
  {
   "cell_type": "code",
   "execution_count": 6,
   "metadata": {
    "execution": {
     "iopub.execute_input": "2023-06-26T10:30:16.477936Z",
     "iopub.status.busy": "2023-06-26T10:30:16.477606Z",
     "iopub.status.idle": "2023-06-26T10:30:16.520694Z",
     "shell.execute_reply": "2023-06-26T10:30:16.519589Z",
     "shell.execute_reply.started": "2023-06-26T10:30:16.477906Z"
    },
    "id": "lwM-6FBrUHjn"
   },
   "outputs": [],
   "source": [
    "train = train.dropna()"
   ]
  },
  {
   "cell_type": "code",
   "execution_count": 7,
   "metadata": {
    "execution": {
     "iopub.execute_input": "2023-06-26T10:30:16.522389Z",
     "iopub.status.busy": "2023-06-26T10:30:16.522070Z",
     "iopub.status.idle": "2023-06-26T10:30:16.554279Z",
     "shell.execute_reply": "2023-06-26T10:30:16.553260Z",
     "shell.execute_reply.started": "2023-06-26T10:30:16.522361Z"
    },
    "id": "oKHR0Z7nUHjo"
   },
   "outputs": [],
   "source": [
    "train['Date_of_Journey'] = pd.to_datetime(train['Date_of_Journey'])"
   ]
  },
  {
   "cell_type": "code",
   "execution_count": 8,
   "metadata": {
    "execution": {
     "iopub.execute_input": "2023-06-26T10:30:18.852504Z",
     "iopub.status.busy": "2023-06-26T10:30:18.852080Z",
     "iopub.status.idle": "2023-06-26T10:30:19.037250Z",
     "shell.execute_reply": "2023-06-26T10:30:19.036246Z",
     "shell.execute_reply.started": "2023-06-26T10:30:18.852474Z"
    },
    "id": "t5UzvznBUHjt"
   },
   "outputs": [],
   "source": [
    "train['Duration']=train['Duration'].str.replace(\"h\",\"*60\").str.replace(\"m\",\"*1\").str.replace(' ','+').apply(eval)"
   ]
  },
  {
   "cell_type": "code",
   "execution_count": 9,
   "metadata": {},
   "outputs": [
    {
     "data": {
      "text/plain": [
       "array(['non-stop', '2 stops', '1 stop', '3 stops', '4 stops'],\n",
       "      dtype=object)"
      ]
     },
     "execution_count": 9,
     "metadata": {},
     "output_type": "execute_result"
    }
   ],
   "source": [
    "train[\"Total_Stops\"].unique()"
   ]
  },
  {
   "cell_type": "code",
   "execution_count": 10,
   "metadata": {
    "execution": {
     "iopub.execute_input": "2023-06-26T10:30:18.318737Z",
     "iopub.status.busy": "2023-06-26T10:30:18.318406Z",
     "iopub.status.idle": "2023-06-26T10:30:18.347546Z",
     "shell.execute_reply": "2023-06-26T10:30:18.346737Z",
     "shell.execute_reply.started": "2023-06-26T10:30:18.318709Z"
    },
    "id": "uT49Nj55UHjr"
   },
   "outputs": [],
   "source": [
    "train[\"Total_Stops\"].replace({\n",
    "    'non-stop':0,\n",
    "    '1 stop':1,\n",
    "    '2 stops':2,\n",
    "    '3 stops':3,\n",
    "    '4 stops':4\n",
    "},inplace =True)"
   ]
  },
  {
   "cell_type": "markdown",
   "metadata": {
    "id": "T8rS5blaUHjp"
   },
   "source": [
    "# EDA"
   ]
  },
  {
   "cell_type": "code",
   "execution_count": 11,
   "metadata": {
    "execution": {
     "iopub.execute_input": "2023-06-26T10:30:16.584538Z",
     "iopub.status.busy": "2023-06-26T10:30:16.584188Z",
     "iopub.status.idle": "2023-06-26T10:30:17.321203Z",
     "shell.execute_reply": "2023-06-26T10:30:17.320091Z",
     "shell.execute_reply.started": "2023-06-26T10:30:16.584510Z"
    },
    "id": "WGtt__5aUHjq"
   },
   "outputs": [],
   "source": [
    "import seaborn as sns\n",
    "import matplotlib.pyplot as plt"
   ]
  },
  {
   "cell_type": "code",
   "execution_count": 12,
   "metadata": {
    "execution": {
     "iopub.execute_input": "2023-06-26T10:30:17.322892Z",
     "iopub.status.busy": "2023-06-26T10:30:17.322555Z",
     "iopub.status.idle": "2023-06-26T10:30:18.317106Z",
     "shell.execute_reply": "2023-06-26T10:30:18.316013Z",
     "shell.execute_reply.started": "2023-06-26T10:30:17.322864Z"
    },
    "id": "HXL_uh2nUHjr"
   },
   "outputs": [
    {
     "data": {
      "image/png": "[encoded data removed]",
      "text/plain": [
       "<Figure size 432x288 with 1 Axes>"
      ]
     },
     "metadata": {
      "needs_background": "light"
     },
     "output_type": "display_data"
    }
   ],
   "source": [
    "sns.barplot(x=train['Airline'], y = train['Price'])\n",
    "plt.xticks(rotation = 90)\n",
    "plt.show()"
   ]
  },
  {
   "cell_type": "code",
   "execution_count": 13,
   "metadata": {
    "execution": {
     "iopub.execute_input": "2023-06-26T10:30:18.349418Z",
     "iopub.status.busy": "2023-06-26T10:30:18.349063Z",
     "iopub.status.idle": "2023-06-26T10:30:18.850761Z",
     "shell.execute_reply": "2023-06-26T10:30:18.849665Z",
     "shell.execute_reply.started": "2023-06-26T10:30:18.349384Z"
    },
    "id": "U6B62gh_UHjs"
   },
   "outputs": [
    {
     "data": {
      "image/png": "[encoded data removed]",
      "text/plain": [
       "<Figure size 432x288 with 1 Axes>"
      ]
     },
     "metadata": {
      "needs_background": "light"
     },
     "output_type": "display_data"
    }
   ],
   "source": [
    "sns.barplot(x=train['Total_Stops'], y = train['Price'])\n",
    "plt.show()"
   ]
  },
  {
   "cell_type": "code",
   "execution_count": 14,
   "metadata": {
    "execution": {
     "iopub.execute_input": "2023-06-26T10:30:19.039245Z",
     "iopub.status.busy": "2023-06-26T10:30:19.038543Z",
     "iopub.status.idle": "2023-06-26T10:30:20.077524Z",
     "shell.execute_reply": "2023-06-26T10:30:20.076423Z",
     "shell.execute_reply.started": "2023-06-26T10:30:19.039214Z"
    },
    "id": "Ex9jasAnUHjt"
   },
   "outputs": [
    {
     "data": {
      "image/png": "[encoded data removed]",
      "text/plain": [
       "<Figure size 432x288 with 1 Axes>"
      ]
     },
     "metadata": {
      "needs_background": "light"
     },
     "output_type": "display_data"
    }
   ],
   "source": [
    "sns.scatterplot(x=train['Duration'], y = train['Price'], hue=train['Total_Stops'])\n",
    "plt.show()"
   ]
  },
  {
   "cell_type": "code",
   "execution_count": 15,
   "metadata": {
    "execution": {
     "iopub.execute_input": "2023-06-26T10:30:20.093605Z",
     "iopub.status.busy": "2023-06-26T10:30:20.093182Z",
     "iopub.status.idle": "2023-06-26T10:30:20.573322Z",
     "shell.execute_reply": "2023-06-26T10:30:20.572226Z",
     "shell.execute_reply.started": "2023-06-26T10:30:20.093568Z"
    },
    "id": "vNNxkey9UHju"
   },
   "outputs": [
    {
     "data": {
      "image/png": "[encoded data removed]",
      "text/plain": [
       "<Figure size 432x288 with 1 Axes>"
      ]
     },
     "metadata": {
      "needs_background": "light"
     },
     "output_type": "display_data"
    }
   ],
   "source": [
    "sns.barplot(x=train['Source'], y = train['Price'])\n",
    "plt.xticks(rotation = 90)\n",
    "plt.show()"
   ]
  },
  {
   "cell_type": "code",
   "execution_count": 16,
   "metadata": {
    "id": "J7f2-Ws163Oh"
   },
   "outputs": [
    {
     "data": {
      "image/png": "[encoded data removed]",
      "text/plain": [
       "<Figure size 432x288 with 1 Axes>"
      ]
     },
     "metadata": {
      "needs_background": "light"
     },
     "output_type": "display_data"
    }
   ],
   "source": [
    "sns.barplot(x=train['Destination'], y = train['Price'])\n",
    "plt.xticks(rotation = 90)\n",
    "plt.show()"
   ]
  },
  {
   "cell_type": "markdown",
   "metadata": {
    "id": "HhG1GLduUHjv"
   },
   "source": [
    "# Feature Engineering on date and times"
   ]
  },
  {
   "cell_type": "code",
   "execution_count": 17,
   "metadata": {
    "execution": {
     "iopub.execute_input": "2023-06-26T10:30:20.575873Z",
     "iopub.status.busy": "2023-06-26T10:30:20.575041Z",
     "iopub.status.idle": "2023-06-26T10:30:20.665986Z",
     "shell.execute_reply": "2023-06-26T10:30:20.664782Z",
     "shell.execute_reply.started": "2023-06-26T10:30:20.575832Z"
    },
    "id": "AU8YM3USUHjv"
   },
   "outputs": [],
   "source": [
    "train['Arrival_Time'] = train['Arrival_Time'].str.split(' ').str[0]\n",
    "train['Arr_hr'] = train['Arrival_Time'].str.split(':').str[0].astype(int)\n",
    "train['Arr_min'] = train['Arrival_Time'].str.split(':').str[1].astype(int)"
   ]
  },
  {
   "cell_type": "code",
   "execution_count": 18,
   "metadata": {
    "execution": {
     "iopub.execute_input": "2023-06-26T10:30:20.667564Z",
     "iopub.status.busy": "2023-06-26T10:30:20.667233Z",
     "iopub.status.idle": "2023-06-26T10:30:20.753398Z",
     "shell.execute_reply": "2023-06-26T10:30:20.752388Z",
     "shell.execute_reply.started": "2023-06-26T10:30:20.667537Z"
    },
    "id": "aTh0C0yDUHjv"
   },
   "outputs": [],
   "source": [
    "train['Dep_Time'] = train['Dep_Time'].str.split(' ').str[0]\n",
    "train['Dep_hr'] = train['Dep_Time'].str.split(':').str[0].astype(int)\n",
    "train['Dep_min'] = train['Dep_Time'].str.split(':').str[1].astype(int)"
   ]
  },
  {
   "cell_type": "code",
   "execution_count": 19,
   "metadata": {
    "execution": {
     "iopub.execute_input": "2023-06-26T10:30:20.755400Z",
     "iopub.status.busy": "2023-06-26T10:30:20.754952Z",
     "iopub.status.idle": "2023-06-26T10:30:20.768595Z",
     "shell.execute_reply": "2023-06-26T10:30:20.767639Z",
     "shell.execute_reply.started": "2023-06-26T10:30:20.755336Z"
    },
    "id": "xOvanqO0UHjw"
   },
   "outputs": [],
   "source": [
    "train['journey_month'] = train['Date_of_Journey'].dt.month\n",
    "train['journey_date'] = train['Date_of_Journey'].dt.day"
   ]
  },
  {
   "cell_type": "code",
   "execution_count": 20,
   "metadata": {
    "id": "1KYGl0uY7Hk2"
   },
   "outputs": [
    {
     "name": "stdout",
     "output_type": "stream",
     "text": [
      "Airline 12\n",
      "Source 5\n",
      "Destination 6\n",
      "Route 128\n",
      "Dep_Time 222\n",
      "Arrival_Time 223\n",
      "Additional_Info 10\n"
     ]
    }
   ],
   "source": [
    "for col in train.columns:\n",
    "    if train[col].dtype=='object' :\n",
    "        print(col, len(train[col].unique()))"
   ]
  },
  {
   "cell_type": "code",
   "execution_count": 21,
   "metadata": {
    "execution": {
     "iopub.execute_input": "2023-06-26T10:30:20.801492Z",
     "iopub.status.busy": "2023-06-26T10:30:20.800455Z",
     "iopub.status.idle": "2023-06-26T10:30:21.078472Z",
     "shell.execute_reply": "2023-06-26T10:30:21.077263Z",
     "shell.execute_reply.started": "2023-06-26T10:30:20.801430Z"
    },
    "id": "xdBrQ3KSUHjx"
   },
   "outputs": [],
   "source": [
    "train['r1'] = train['Route'].str.split(' → ').str[0]\n",
    "train['r2'] = train['Route'].str.split(' → ').str[1]\n",
    "train['r3'] = train['Route'].str.split(' → ').str[2]\n",
    "train['r4'] = train['Route'].str.split(' → ').str[3]\n",
    "train['r5'] = train['Route'].str.split(' → ').str[4]"
   ]
  },
  {
   "cell_type": "code",
   "execution_count": 22,
   "metadata": {
    "id": "vb7nI7Ye8H00"
   },
   "outputs": [
    {
     "data": {
      "text/plain": [
       "Airline                0\n",
       "Date_of_Journey        0\n",
       "Source                 0\n",
       "Destination            0\n",
       "Route                  0\n",
       "Dep_Time               0\n",
       "Arrival_Time           0\n",
       "Duration               0\n",
       "Total_Stops            0\n",
       "Additional_Info        0\n",
       "Price                  0\n",
       "Arr_hr                 0\n",
       "Arr_min                0\n",
       "Dep_hr                 0\n",
       "Dep_min                0\n",
       "journey_month          0\n",
       "journey_date           0\n",
       "r1                     0\n",
       "r2                     0\n",
       "r3                  3491\n",
       "r4                  9116\n",
       "r5                 10636\n",
       "dtype: int64"
      ]
     },
     "execution_count": 22,
     "metadata": {},
     "output_type": "execute_result"
    }
   ],
   "source": [
    "train.isnull().sum()"
   ]
  },
  {
   "cell_type": "code",
   "execution_count": 23,
   "metadata": {
    "execution": {
     "iopub.execute_input": "2023-06-26T10:30:21.080386Z",
     "iopub.status.busy": "2023-06-26T10:30:21.079973Z",
     "iopub.status.idle": "2023-06-26T10:30:21.144186Z",
     "shell.execute_reply": "2023-06-26T10:30:21.143053Z",
     "shell.execute_reply.started": "2023-06-26T10:30:21.080325Z"
    },
    "id": "z1-zXoLrUHjy"
   },
   "outputs": [],
   "source": [
    "train.fillna('UNK',inplace = True)"
   ]
  },
  {
   "cell_type": "code",
   "execution_count": 24,
   "metadata": {},
   "outputs": [],
   "source": [
    "airstops = []"
   ]
  },
  {
   "cell_type": "code",
   "execution_count": 25,
   "metadata": {},
   "outputs": [
    {
     "data": {
      "text/plain": [
       "43"
      ]
     },
     "execution_count": 25,
     "metadata": {},
     "output_type": "execute_result"
    }
   ],
   "source": [
    "for i in train['r1'].unique():\n",
    "    airstops.append(i)\n",
    "    \n",
    "for i in train['r2'].unique():\n",
    "    airstops.append(i)\n",
    "    \n",
    "for i in train['r3'].unique():\n",
    "    airstops.append(i)\n",
    "    \n",
    "for i in train['r4'].unique():\n",
    "    airstops.append(i)\n",
    "    \n",
    "for i in train['r5'].unique():\n",
    "    airstops.append(i)\n",
    "    \n",
    "airstops = list(set(airstops))\n",
    "len(airstops)"
   ]
  },
  {
   "cell_type": "code",
   "execution_count": 26,
   "metadata": {},
   "outputs": [
    {
     "name": "stdout",
     "output_type": "stream",
     "text": [
      "LKO COK HYD GWL NAG RPR IMF STV UDR BDQ DEL VTZ BBI IXU AMD MAA PAT KNU GAU HBX NDC PNQ DED IXC BLR BOM JLR VNS GOI UNK VGA BHO IXZ IXR JAI JDH ATQ IDR TRV CCU ISK IXB IXA "
     ]
    }
   ],
   "source": [
    "for i in airstops:\n",
    "    print(i, end=' ')"
   ]
  },
  {
   "cell_type": "code",
   "execution_count": null,
   "metadata": {},
   "outputs": [],
   "source": []
  },
  {
   "cell_type": "markdown",
   "metadata": {
    "id": "gjD__9AsUHjz"
   },
   "source": [
    "# Label Encoding"
   ]
  },
  {
   "cell_type": "code",
   "execution_count": 27,
   "metadata": {
    "id": "xmiRU1fkmQTD"
   },
   "outputs": [],
   "source": [
    "from sklearn.preprocessing import LabelEncoder\n",
    "\n",
    "encr = LabelEncoder()"
   ]
  },
  {
   "cell_type": "code",
   "execution_count": 28,
   "metadata": {
    "id": "aBC5KK1uFdPk"
   },
   "outputs": [],
   "source": [
    "ler  = encr.fit(airstops)"
   ]
  },
  {
   "cell_type": "code",
   "execution_count": 29,
   "metadata": {
    "colab": {
     "base_uri": "https://localhost:8080/",
     "height": 426
    },
    "execution": {
     "iopub.execute_input": "2023-06-26T10:30:21.220233Z",
     "iopub.status.busy": "2023-06-26T10:30:21.219525Z",
     "iopub.status.idle": "2023-06-26T10:30:21.333789Z",
     "shell.execute_reply": "2023-06-26T10:30:21.332676Z",
     "shell.execute_reply.started": "2023-06-26T10:30:21.220202Z"
    },
    "id": "5jiJoldkUHj0",
    "outputId": "efcc3014-378f-4394-e265-3810ecb2619c"
   },
   "outputs": [],
   "source": [
    "train['r1'] = encr.transform(train['r1'])\n",
    "train['r2'] = encr.transform(train['r2'])\n",
    "train['r3'] = encr.transform(train['r3'])\n",
    "train['r4'] = encr.transform(train['r4'])\n",
    "train['r5'] = encr.transform(train['r5'])"
   ]
  },
  {
   "cell_type": "code",
   "execution_count": 30,
   "metadata": {},
   "outputs": [],
   "source": [
    "enca = LabelEncoder()\n",
    "lea = enca.fit(train['Airline'])\n",
    "train['Airline'] = enca.transform(train['Airline'])"
   ]
  },
  {
   "cell_type": "markdown",
   "metadata": {
    "id": "NlOO9CCn-p4-"
   },
   "source": [
    "# One Hot Encoding"
   ]
  },
  {
   "cell_type": "code",
   "execution_count": 31,
   "metadata": {},
   "outputs": [
    {
     "data": {
      "text/html": [
       "<div>\n",
       "<style scoped>\n",
       "    .dataframe tbody tr th:only-of-type {\n",
       "        vertical-align: middle;\n",
       "    }\n",
       "\n",
       "    .dataframe tbody tr th {\n",
       "        vertical-align: top;\n",
       "    }\n",
       "\n",
       "    .dataframe thead th {\n",
       "        text-align: right;\n",
       "    }\n",
       "</style>\n",
       "<table border=\"1\" class=\"dataframe\">\n",
       "  <thead>\n",
       "    <tr style=\"text-align: right;\">\n",
       "      <th></th>\n",
       "      <th>Airline</th>\n",
       "      <th>Date_of_Journey</th>\n",
       "      <th>Source</th>\n",
       "      <th>Destination</th>\n",
       "      <th>Route</th>\n",
       "      <th>Dep_Time</th>\n",
       "      <th>Arrival_Time</th>\n",
       "      <th>Duration</th>\n",
       "      <th>Total_Stops</th>\n",
       "      <th>Additional_Info</th>\n",
       "      <th>...</th>\n",
       "      <th>Arr_min</th>\n",
       "      <th>Dep_hr</th>\n",
       "      <th>Dep_min</th>\n",
       "      <th>journey_month</th>\n",
       "      <th>journey_date</th>\n",
       "      <th>r1</th>\n",
       "      <th>r2</th>\n",
       "      <th>r3</th>\n",
       "      <th>r4</th>\n",
       "      <th>r5</th>\n",
       "    </tr>\n",
       "  </thead>\n",
       "  <tbody>\n",
       "    <tr>\n",
       "      <th>0</th>\n",
       "      <td>3</td>\n",
       "      <td>2019-03-24</td>\n",
       "      <td>Banglore</td>\n",
       "      <td>New Delhi</td>\n",
       "      <td>BLR → DEL</td>\n",
       "      <td>22:20</td>\n",
       "      <td>01:10</td>\n",
       "      <td>170</td>\n",
       "      <td>0</td>\n",
       "      <td>No info</td>\n",
       "      <td>...</td>\n",
       "      <td>10</td>\n",
       "      <td>22</td>\n",
       "      <td>20</td>\n",
       "      <td>3</td>\n",
       "      <td>24</td>\n",
       "      <td>5</td>\n",
       "      <td>10</td>\n",
       "      <td>39</td>\n",
       "      <td>39</td>\n",
       "      <td>39</td>\n",
       "    </tr>\n",
       "    <tr>\n",
       "      <th>1</th>\n",
       "      <td>1</td>\n",
       "      <td>2019-01-05</td>\n",
       "      <td>Kolkata</td>\n",
       "      <td>Banglore</td>\n",
       "      <td>CCU → IXR → BBI → BLR</td>\n",
       "      <td>05:50</td>\n",
       "      <td>13:15</td>\n",
       "      <td>445</td>\n",
       "      <td>2</td>\n",
       "      <td>No info</td>\n",
       "      <td>...</td>\n",
       "      <td>15</td>\n",
       "      <td>5</td>\n",
       "      <td>50</td>\n",
       "      <td>1</td>\n",
       "      <td>5</td>\n",
       "      <td>7</td>\n",
       "      <td>22</td>\n",
       "      <td>2</td>\n",
       "      <td>5</td>\n",
       "      <td>39</td>\n",
       "    </tr>\n",
       "    <tr>\n",
       "      <th>2</th>\n",
       "      <td>4</td>\n",
       "      <td>2019-09-06</td>\n",
       "      <td>Delhi</td>\n",
       "      <td>Cochin</td>\n",
       "      <td>DEL → LKO → BOM → COK</td>\n",
       "      <td>09:25</td>\n",
       "      <td>04:25</td>\n",
       "      <td>1140</td>\n",
       "      <td>2</td>\n",
       "      <td>No info</td>\n",
       "      <td>...</td>\n",
       "      <td>25</td>\n",
       "      <td>9</td>\n",
       "      <td>25</td>\n",
       "      <td>9</td>\n",
       "      <td>6</td>\n",
       "      <td>10</td>\n",
       "      <td>29</td>\n",
       "      <td>6</td>\n",
       "      <td>8</td>\n",
       "      <td>39</td>\n",
       "    </tr>\n",
       "    <tr>\n",
       "      <th>3</th>\n",
       "      <td>3</td>\n",
       "      <td>2019-12-05</td>\n",
       "      <td>Kolkata</td>\n",
       "      <td>Banglore</td>\n",
       "      <td>CCU → NAG → BLR</td>\n",
       "      <td>18:05</td>\n",
       "      <td>23:30</td>\n",
       "      <td>325</td>\n",
       "      <td>1</td>\n",
       "      <td>No info</td>\n",
       "      <td>...</td>\n",
       "      <td>30</td>\n",
       "      <td>18</td>\n",
       "      <td>5</td>\n",
       "      <td>12</td>\n",
       "      <td>5</td>\n",
       "      <td>7</td>\n",
       "      <td>31</td>\n",
       "      <td>5</td>\n",
       "      <td>39</td>\n",
       "      <td>39</td>\n",
       "    </tr>\n",
       "    <tr>\n",
       "      <th>4</th>\n",
       "      <td>3</td>\n",
       "      <td>2019-01-03</td>\n",
       "      <td>Banglore</td>\n",
       "      <td>New Delhi</td>\n",
       "      <td>BLR → NAG → DEL</td>\n",
       "      <td>16:50</td>\n",
       "      <td>21:35</td>\n",
       "      <td>285</td>\n",
       "      <td>1</td>\n",
       "      <td>No info</td>\n",
       "      <td>...</td>\n",
       "      <td>35</td>\n",
       "      <td>16</td>\n",
       "      <td>50</td>\n",
       "      <td>1</td>\n",
       "      <td>3</td>\n",
       "      <td>5</td>\n",
       "      <td>31</td>\n",
       "      <td>10</td>\n",
       "      <td>39</td>\n",
       "      <td>39</td>\n",
       "    </tr>\n",
       "  </tbody>\n",
       "</table>\n",
       "<p>5 rows × 22 columns</p>\n",
       "</div>"
      ],
      "text/plain": [
       "   Airline Date_of_Journey    Source Destination                  Route  \\\n",
       "0        3      2019-03-24  Banglore   New Delhi              BLR → DEL   \n",
       "1        1      2019-01-05   Kolkata    Banglore  CCU → IXR → BBI → BLR   \n",
       "2        4      2019-09-06     Delhi      Cochin  DEL → LKO → BOM → COK   \n",
       "3        3      2019-12-05   Kolkata    Banglore        CCU → NAG → BLR   \n",
       "4        3      2019-01-03  Banglore   New Delhi        BLR → NAG → DEL   \n",
       "\n",
       "  Dep_Time Arrival_Time  Duration  Total_Stops Additional_Info  ...  Arr_min  \\\n",
       "0    22:20        01:10       170            0         No info  ...       10   \n",
       "1    05:50        13:15       445            2         No info  ...       15   \n",
       "2    09:25        04:25      1140            2         No info  ...       25   \n",
       "3    18:05        23:30       325            1         No info  ...       30   \n",
       "4    16:50        21:35       285            1         No info  ...       35   \n",
       "\n",
       "   Dep_hr  Dep_min  journey_month  journey_date  r1  r2  r3  r4  r5  \n",
       "0      22       20              3            24   5  10  39  39  39  \n",
       "1       5       50              1             5   7  22   2   5  39  \n",
       "2       9       25              9             6  10  29   6   8  39  \n",
       "3      18        5             12             5   7  31   5  39  39  \n",
       "4      16       50              1             3   5  31  10  39  39  \n",
       "\n",
       "[5 rows x 22 columns]"
      ]
     },
     "execution_count": 31,
     "metadata": {},
     "output_type": "execute_result"
    }
   ],
   "source": [
    "train.head()"
   ]
  },
  {
   "cell_type": "code",
   "execution_count": 32,
   "metadata": {
    "id": "IrJBkWgHej-l"
   },
   "outputs": [
    {
     "data": {
      "text/plain": [
       "Airline            0\n",
       "Date_of_Journey    0\n",
       "Source             0\n",
       "Destination        0\n",
       "Route              0\n",
       "Dep_Time           0\n",
       "Arrival_Time       0\n",
       "Duration           0\n",
       "Total_Stops        0\n",
       "Additional_Info    0\n",
       "Price              0\n",
       "Arr_hr             0\n",
       "Arr_min            0\n",
       "Dep_hr             0\n",
       "Dep_min            0\n",
       "journey_month      0\n",
       "journey_date       0\n",
       "r1                 0\n",
       "r2                 0\n",
       "r3                 0\n",
       "r4                 0\n",
       "r5                 0\n",
       "dtype: int64"
      ]
     },
     "execution_count": 32,
     "metadata": {},
     "output_type": "execute_result"
    }
   ],
   "source": [
    "train.isnull().sum()"
   ]
  },
  {
   "cell_type": "code",
   "execution_count": 33,
   "metadata": {
    "execution": {
     "iopub.execute_input": "2023-06-26T10:30:21.207850Z",
     "iopub.status.busy": "2023-06-26T10:30:21.207538Z",
     "iopub.status.idle": "2023-06-26T10:30:21.217986Z",
     "shell.execute_reply": "2023-06-26T10:30:21.216756Z",
     "shell.execute_reply.started": "2023-06-26T10:30:21.207825Z"
    },
    "id": "JwuZHgzkUHjz"
   },
   "outputs": [],
   "source": [
    "train.drop(columns=['Date_of_Journey',\n",
    "                    'Source', 'Destination',\n",
    "                    'Route','Additional_Info','Dep_Time',\n",
    "                    'Arrival_Time',\n",
    "                   ],axis=1,inplace = True)"
   ]
  },
  {
   "cell_type": "markdown",
   "metadata": {
    "id": "BHyhjz0o_gbj"
   },
   "source": [
    "# Outliers"
   ]
  },
  {
   "cell_type": "code",
   "execution_count": 34,
   "metadata": {
    "id": "1h4qELI1_cFM"
   },
   "outputs": [],
   "source": [
    "def plot(data,col):\n",
    "    fig,(ax1,ax2)=plt.subplots(2,1)\n",
    "    sns.distplot(data[col],ax=ax1)\n",
    "    sns.boxplot(data[col],ax=ax2)"
   ]
  },
  {
   "cell_type": "code",
   "execution_count": 35,
   "metadata": {
    "id": "FhjeHPC-_lTS"
   },
   "outputs": [
    {
     "name": "stderr",
     "output_type": "stream",
     "text": [
      "/opt/anaconda3/lib/python3.9/site-packages/seaborn/distributions.py:2619: FutureWarning: `distplot` is a deprecated function and will be removed in a future version. Please adapt your code to use either `displot` (a figure-level function with similar flexibility) or `histplot` (an axes-level function for histograms).\n",
      "  warnings.warn(msg, FutureWarning)\n",
      "/opt/anaconda3/lib/python3.9/site-packages/seaborn/_decorators.py:36: FutureWarning: Pass the following variable as a keyword arg: x. From version 0.12, the only valid positional argument will be `data`, and passing other arguments without an explicit keyword will result in an error or misinterpretation.\n",
      "  warnings.warn(\n"
     ]
    },
    {
     "data": {
      "image/png": "[encoded data removed]",
      "text/plain": [
       "<Figure size 432x288 with 2 Axes>"
      ]
     },
     "metadata": {
      "needs_background": "light"
     },
     "output_type": "display_data"
    }
   ],
   "source": [
    "plot(train,'Price')"
   ]
  },
  {
   "cell_type": "code",
   "execution_count": 36,
   "metadata": {
    "id": "Xi5x-YPU_x8m"
   },
   "outputs": [],
   "source": [
    "train['Price']=np.where(train['Price']>=35000,train['Price'].median(),train['Price'])"
   ]
  },
  {
   "cell_type": "code",
   "execution_count": 37,
   "metadata": {
    "id": "C45enKLh_3ie"
   },
   "outputs": [
    {
     "name": "stderr",
     "output_type": "stream",
     "text": [
      "/opt/anaconda3/lib/python3.9/site-packages/seaborn/distributions.py:2619: FutureWarning: `distplot` is a deprecated function and will be removed in a future version. Please adapt your code to use either `displot` (a figure-level function with similar flexibility) or `histplot` (an axes-level function for histograms).\n",
      "  warnings.warn(msg, FutureWarning)\n",
      "/opt/anaconda3/lib/python3.9/site-packages/seaborn/_decorators.py:36: FutureWarning: Pass the following variable as a keyword arg: x. From version 0.12, the only valid positional argument will be `data`, and passing other arguments without an explicit keyword will result in an error or misinterpretation.\n",
      "  warnings.warn(\n"
     ]
    },
    {
     "data": {
      "image/png": "[encoded data removed]",
      "text/plain": [
       "<Figure size 432x288 with 2 Axes>"
      ]
     },
     "metadata": {
      "needs_background": "light"
     },
     "output_type": "display_data"
    }
   ],
   "source": [
    "plot(train,'Price')"
   ]
  },
  {
   "cell_type": "markdown",
   "metadata": {
    "id": "PiVnekPLUHj1"
   },
   "source": [
    "# Splitting"
   ]
  },
  {
   "cell_type": "code",
   "execution_count": 38,
   "metadata": {
    "id": "WmWMU0wZUHj1"
   },
   "outputs": [],
   "source": [
    "X = train.drop('Price',axis = 1)\n",
    "Y = train['Price']"
   ]
  },
  {
   "cell_type": "code",
   "execution_count": 39,
   "metadata": {},
   "outputs": [
    {
     "data": {
      "text/plain": [
       "(10682, 14)"
      ]
     },
     "execution_count": 39,
     "metadata": {},
     "output_type": "execute_result"
    }
   ],
   "source": [
    "X.shape"
   ]
  },
  {
   "cell_type": "code",
   "execution_count": 40,
   "metadata": {},
   "outputs": [
    {
     "data": {
      "text/plain": [
       "Index(['Airline', 'Duration', 'Total_Stops', 'Arr_hr', 'Arr_min', 'Dep_hr',\n",
       "       'Dep_min', 'journey_month', 'journey_date', 'r1', 'r2', 'r3', 'r4',\n",
       "       'r5'],\n",
       "      dtype='object')"
      ]
     },
     "execution_count": 40,
     "metadata": {},
     "output_type": "execute_result"
    }
   ],
   "source": [
    "X.columns"
   ]
  },
  {
   "cell_type": "markdown",
   "metadata": {
    "id": "OJpqiIDpUHj0"
   },
   "source": [
    "# Data Standardisation"
   ]
  },
  {
   "cell_type": "code",
   "execution_count": 41,
   "metadata": {},
   "outputs": [],
   "source": [
    "from sklearn.preprocessing import StandardScaler\n",
    "scaler = StandardScaler()"
   ]
  },
  {
   "cell_type": "code",
   "execution_count": 42,
   "metadata": {},
   "outputs": [],
   "source": [
    "std = scaler.fit(X)\n",
    "X = scaler.transform(X)"
   ]
  },
  {
   "cell_type": "markdown",
   "metadata": {
    "id": "pXRugOpyUHj6"
   },
   "source": [
    "# Model Training"
   ]
  },
  {
   "cell_type": "code",
   "execution_count": 43,
   "metadata": {
    "id": "o2DsTFzfh1R6"
   },
   "outputs": [
    {
     "name": "stdout",
     "output_type": "stream",
     "text": [
      "(7156, 14) (3526, 14) (7156,) (3526,)\n"
     ]
    }
   ],
   "source": [
    "from sklearn.model_selection import train_test_split as tts\n",
    "\n",
    "X_train, X_test, Y_train, Y_test = tts(X,Y, test_size = 0.33, random_state = 128)\n",
    "print(X_train.shape, X_test.shape, Y_train.shape, Y_test.shape)"
   ]
  },
  {
   "cell_type": "code",
   "execution_count": 44,
   "metadata": {
    "execution": {
     "iopub.status.busy": "2023-06-26T10:30:21.781250Z",
     "iopub.status.idle": "2023-06-26T10:30:21.781634Z",
     "shell.execute_reply": "2023-06-26T10:30:21.781469Z",
     "shell.execute_reply.started": "2023-06-26T10:30:21.781451Z"
    },
    "id": "0HQGHjaPUHkT"
   },
   "outputs": [],
   "source": [
    "from sklearn.metrics import r2_score,mean_absolute_error,mean_squared_error"
   ]
  },
  {
   "cell_type": "code",
   "execution_count": 45,
   "metadata": {
    "execution": {
     "iopub.status.busy": "2023-06-26T10:30:21.782901Z",
     "iopub.status.idle": "2023-06-26T10:30:21.783267Z",
     "shell.execute_reply": "2023-06-26T10:30:21.783093Z",
     "shell.execute_reply.started": "2023-06-26T10:30:21.783076Z"
    },
    "id": "aYjtvxI4UHkT"
   },
   "outputs": [
    {
     "name": "stdout",
     "output_type": "stream",
     "text": [
      "Training score: 0.49737826118602846\n",
      "Testing score: 0.5010658969034336\n",
      "Predictions are: [12030.83550476 11064.30247156 11749.31698811 ... 11797.96560093\n",
      " 11551.44027214 10841.50322388]\n",
      "\n",
      "\n",
      "r2 score is: 0.5010658969034336\n",
      "MAE:2311.0825663293795\n",
      "MSE:10135747.072531689\n",
      "RMSE:3183.6688069790944\n",
      "\n",
      "\n"
     ]
    },
    {
     "data": {
      "image/png": "[encoded data removed]",
      "text/plain": [
       "<Figure size 432x288 with 1 Axes>"
      ]
     },
     "metadata": {
      "needs_background": "light"
     },
     "output_type": "display_data"
    }
   ],
   "source": [
    "from sklearn.linear_model import LinearRegression\n",
    "\n",
    "model= LinearRegression()\n",
    "model.fit(X_train,Y_train)\n",
    "print(\"Training score: {}\".format(model.score(X_train,Y_train)))\n",
    "print(\"Testing score: {}\".format(model.score(X_test,Y_test)))\n",
    "predictions = model.predict(X_test)\n",
    "print(\"Predictions are: {}\".format(predictions))\n",
    "print('\\n')\n",
    "r2score=r2_score(Y_test,predictions)\n",
    "print(\"r2 score is: {}\".format(r2score))\n",
    "\n",
    "print('MAE:{}'.format(mean_absolute_error(Y_test,predictions)))\n",
    "print('MSE:{}'.format(mean_squared_error(Y_test,predictions)))\n",
    "print('RMSE:{}'.format(np.sqrt(mean_squared_error(Y_test,predictions))))\n",
    "print('\\n')\n",
    "\n",
    "sns.histplot(Y_test-predictions)\n",
    "model1 = model"
   ]
  },
  {
   "cell_type": "code",
   "execution_count": 46,
   "metadata": {
    "execution": {
     "iopub.status.busy": "2023-06-26T10:30:21.784500Z",
     "iopub.status.idle": "2023-06-26T10:30:21.785086Z",
     "shell.execute_reply": "2023-06-26T10:30:21.784918Z",
     "shell.execute_reply.started": "2023-06-26T10:30:21.784898Z"
    },
    "id": "6N0LlGTwUHkT"
   },
   "outputs": [
    {
     "name": "stdout",
     "output_type": "stream",
     "text": [
      "Training score: 0.7952492655961532\n",
      "Testing score: 0.6770919096902108\n",
      "Predictions are: [11958.6 12422.  12526.8 ... 11861.4 11512.6  7389.4]\n",
      "\n",
      "\n",
      "r2 score is: 0.6770919096902108\n",
      "MAE:1689.6231990924562\n",
      "MSE:6559813.632183778\n",
      "RMSE:2561.213312511041\n",
      "\n",
      "\n"
     ]
    },
    {
     "data": {
      "image/png": "[encoded data removed]",
      "text/plain": [
       "<Figure size 432x288 with 1 Axes>"
      ]
     },
     "metadata": {
      "needs_background": "light"
     },
     "output_type": "display_data"
    }
   ],
   "source": [
    "from sklearn.neighbors import KNeighborsRegressor\n",
    "\n",
    "model= KNeighborsRegressor()\n",
    "model.fit(X_train,Y_train)\n",
    "print(\"Training score: {}\".format(model.score(X_train,Y_train)))\n",
    "print(\"Testing score: {}\".format(model.score(X_test,Y_test)))\n",
    "predictions = model.predict(X_test)\n",
    "print(\"Predictions are: {}\".format(predictions))\n",
    "print('\\n')\n",
    "r2score=r2_score(Y_test,predictions)\n",
    "print(\"r2 score is: {}\".format(r2score))\n",
    "\n",
    "print('MAE:{}'.format(mean_absolute_error(Y_test,predictions)))\n",
    "print('MSE:{}'.format(mean_squared_error(Y_test,predictions)))\n",
    "print('RMSE:{}'.format(np.sqrt(mean_squared_error(Y_test,predictions))))\n",
    "print('\\n')\n",
    "\n",
    "sns.histplot(Y_test-predictions)\n",
    "model2 = model"
   ]
  },
  {
   "cell_type": "code",
   "execution_count": 47,
   "metadata": {
    "id": "nUJ-dBNHDI5I"
   },
   "outputs": [
    {
     "name": "stdout",
     "output_type": "stream",
     "text": [
      "Training score: 0.9550625239603366\n",
      "Testing score: 0.8091124007677566\n",
      "Predictions are: [13777.68   10975.86   13941.23   ... 12653.59   13829.8375 12330.26  ]\n",
      "\n",
      "\n",
      "r2 score is: 0.8091124007677566\n",
      "MAE:1180.215442039101\n",
      "MSE:3877843.6132002454\n",
      "RMSE:1969.2241145182652\n",
      "\n",
      "\n"
     ]
    },
    {
     "data": {
      "image/png": "[encoded data removed]",
      "text/plain": [
       "<Figure size 432x288 with 1 Axes>"
      ]
     },
     "metadata": {
      "needs_background": "light"
     },
     "output_type": "display_data"
    }
   ],
   "source": [
    "from sklearn.ensemble import RandomForestRegressor\n",
    "\n",
    "model= RandomForestRegressor()\n",
    "model.fit(X_train,Y_train)\n",
    "print(\"Training score: {}\".format(model.score(X_train,Y_train)))\n",
    "print(\"Testing score: {}\".format(model.score(X_test,Y_test)))\n",
    "predictions = model.predict(X_test)\n",
    "print(\"Predictions are: {}\".format(predictions))\n",
    "print('\\n')\n",
    "r2score=r2_score(Y_test,predictions)\n",
    "print(\"r2 score is: {}\".format(r2score))\n",
    "\n",
    "print('MAE:{}'.format(mean_absolute_error(Y_test,predictions)))\n",
    "print('MSE:{}'.format(mean_squared_error(Y_test,predictions)))\n",
    "print('RMSE:{}'.format(np.sqrt(mean_squared_error(Y_test,predictions))))\n",
    "print('\\n')\n",
    "\n",
    "sns.histplot(Y_test-predictions)\n",
    "model3 = model"
   ]
  },
  {
   "cell_type": "markdown",
   "metadata": {
    "id": "1CYP-KJquI0x"
   },
   "source": [
    "# Deployement"
   ]
  },
  {
   "cell_type": "code",
   "execution_count": 48,
   "metadata": {
    "id": "4sczQ6ipti8G"
   },
   "outputs": [],
   "source": [
    "import pickle\n",
    "pickle.dump(model3,open('flight_fare_model.pkl','wb'))\n",
    "pickle.dump(ler,open('flight_fare_label_encoder.pkl','wb'))\n",
    "pickle.dump(lea,open('flight_fare_label_encoder_air.pkl','wb'))\n",
    "pickle.dump(std,open('flight_fare_std.pkl','wb'))"
   ]
  }
 ],
 "metadata": {
  "colab": {
   "provenance": []
  },
  "kernelspec": {
   "display_name": "Python 3 (ipykernel)",
   "language": "python",
   "name": "python3"
  },
  "language_info": {
   "codemirror_mode": {
    "name": "ipython",
    "version": 3
   },
   "file_extension": ".py",
   "mimetype": "text/x-python",
   "name": "python",
   "nbconvert_exporter": "python",
   "pygments_lexer": "ipython3",
   "version": "3.9.7"
  }
 },
 "nbformat": 4,
 "nbformat_minor": 1
}
